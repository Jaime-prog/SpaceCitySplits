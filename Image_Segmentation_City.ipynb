{
  "nbformat": 4,
  "nbformat_minor": 0,
  "metadata": {
    "colab": {
      "provenance": []
    },
    "kernelspec": {
      "name": "python3",
      "display_name": "Python 3"
    },
    "language_info": {
      "name": "python"
    }
  },
  "cells": [
    {
      "cell_type": "code",
      "execution_count": null,
      "metadata": {
        "colab": {
          "base_uri": "https://localhost:8080/"
        },
        "id": "IaLzseEDlLxU",
        "outputId": "4e983343-10dd-4dd6-cbf7-cae77b157ddd"
      },
      "outputs": [
        {
          "output_type": "stream",
          "name": "stdout",
          "text": [
            "Drive already mounted at /content/gdrive; to attempt to forcibly remount, call drive.mount(\"/content/gdrive\", force_remount=True).\n",
            "/content\n",
            "/content/gdrive/MyDrive/Desarrollo de Aplicaciones/AI_Project/archive\n",
            "cityscapes_data\n"
          ]
        }
      ],
      "source": [
        "from google.colab import drive\n",
        "drive.mount(\"/content/gdrive\")\n",
        "!pwd\n",
        "#put your own path in google drive\n",
        "%cd \"/content/gdrive/MyDrive/Desarrollo de Aplicaciones/AI_Project/archive\"\n",
        "!ls"
      ]
    },
    {
      "cell_type": "code",
      "source": [
        "base = \"/content/gdrive/MyDrive/Desarrollo de Aplicaciones/AI_Project/archive\""
      ],
      "metadata": {
        "id": "jr_ThCm7tBpm"
      },
      "execution_count": 5,
      "outputs": []
    },
    {
      "cell_type": "code",
      "source": [
        "train_dir = os.path.join(base,'cityscapes_data/train')\n",
        "test_dir = os.path.join(base, 'cityscpaes_data/val')"
      ],
      "metadata": {
        "id": "kzKlFwROtVUh"
      },
      "execution_count": 6,
      "outputs": []
    },
    {
      "cell_type": "markdown",
      "source": [
        "Examining dataset"
      ],
      "metadata": {
        "id": "Mu11NjVSufN4"
      }
    },
    {
      "cell_type": "code",
      "source": [],
      "metadata": {
        "id": "U7AdVlmYl7wl"
      },
      "execution_count": null,
      "outputs": []
    },
    {
      "cell_type": "markdown",
      "source": [
        "Import libraries"
      ],
      "metadata": {
        "id": "NM-OvgE6mtgB"
      }
    },
    {
      "cell_type": "code",
      "source": [
        "import os\n",
        "import keras\n",
        "import numpy as np\n",
        "from tqdm import tqdm\n",
        "import cv2 as cv\n",
        "from glob import glob\n",
        "import tensorflow as tf\n",
        "\n",
        "# Data\n",
        "from keras.preprocessing.image import img_to_array, array_to_img\n",
        "\n",
        "# Data Visualization\n",
        "import matplotlib.pyplot as plt\n",
        "\n",
        "# Model\n",
        "from keras import Sequential\n",
        "from keras.layers import Conv2D, Conv2DTranspose, InputLayer, Layer, Input, Dropout, MaxPool2D, concatenate\n",
        "from tensorflow.keras.optimizers import Adam\n",
        "from keras.callbacks import EarlyStopping, ModelCheckpoint"
      ],
      "metadata": {
        "id": "lifE_OREl8A5"
      },
      "execution_count": null,
      "outputs": []
    },
    {
      "cell_type": "code",
      "source": [],
      "metadata": {
        "id": "us_4ji8Ml8Nx"
      },
      "execution_count": null,
      "outputs": []
    },
    {
      "cell_type": "code",
      "source": [],
      "metadata": {
        "id": "pjwBy00tl8Y-"
      },
      "execution_count": null,
      "outputs": []
    },
    {
      "cell_type": "code",
      "source": [],
      "metadata": {
        "id": "hsIjkIBql8l9"
      },
      "execution_count": null,
      "outputs": []
    },
    {
      "cell_type": "code",
      "source": [],
      "metadata": {
        "id": "cwYyeUD6l85W"
      },
      "execution_count": null,
      "outputs": []
    },
    {
      "cell_type": "code",
      "source": [],
      "metadata": {
        "id": "R6E-7vc8l9H9"
      },
      "execution_count": null,
      "outputs": []
    }
  ]
}